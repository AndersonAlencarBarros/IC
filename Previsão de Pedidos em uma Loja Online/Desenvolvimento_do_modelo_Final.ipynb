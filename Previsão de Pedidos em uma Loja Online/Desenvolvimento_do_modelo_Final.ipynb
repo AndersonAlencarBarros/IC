{
  "nbformat": 4,
  "nbformat_minor": 0,
  "metadata": {
    "colab": {
      "name": "Desenvolvimento do modelo - Final",
      "provenance": [],
      "collapsed_sections": []
    },
    "kernelspec": {
      "name": "python3",
      "display_name": "Python 3"
    },
    "language_info": {
      "name": "python"
    }
  },
  "cells": [
    {
      "cell_type": "code",
      "metadata": {
        "id": "M7GtpN64AZ3H"
      },
      "source": [
        "import numpy as np\n",
        "import pandas as pd"
      ],
      "execution_count": 1,
      "outputs": []
    },
    {
      "cell_type": "markdown",
      "metadata": {
        "id": "hTEyMuV1FbrE"
      },
      "source": [
        "###**Carregando a base de treinamento**"
      ]
    },
    {
      "cell_type": "code",
      "metadata": {
        "id": "5tQzDVvsFbNB"
      },
      "source": [
        "url = 'https://raw.githubusercontent.com/AndersonAlencarBarros/IC/main/Previs%C3%A3o%20de%20Pedidos%20em%20uma%20Loja%20Online/BasesTratadas/Train_Min.csv'\n",
        "Train_min = pd.read_csv(url, sep=',')\n",
        "\n",
        "url = 'https://raw.githubusercontent.com/AndersonAlencarBarros/IC/main/Previs%C3%A3o%20de%20Pedidos%20em%20uma%20Loja%20Online/BasesTratadas/Train_Mean.csv'\n",
        "Train_mean = pd.read_csv(url, sep=',')\n",
        "\n",
        "url = 'https://raw.githubusercontent.com/AndersonAlencarBarros/IC/main/Previs%C3%A3o%20de%20Pedidos%20em%20uma%20Loja%20Online/BasesTratadas/Train_Max.csv'\n",
        "Train_max = pd.read_csv(url, sep=',')\n",
        "\n",
        "url = 'https://raw.githubusercontent.com/AndersonAlencarBarros/IC/main/Previs%C3%A3o%20de%20Pedidos%20em%20uma%20Loja%20Online/BasesTratadas/order.csv'\n",
        "order = pd.read_csv(url, sep=',')\n",
        "\n"
      ],
      "execution_count": 2,
      "outputs": []
    },
    {
      "cell_type": "markdown",
      "metadata": {
        "id": "gFJMIeA8ETLX"
      },
      "source": [
        "###**Carregando a base de testes**"
      ]
    },
    {
      "cell_type": "code",
      "metadata": {
        "id": "Az2nKYb9BGk4",
        "outputId": "63ba45c3-effd-444f-f233-d72c7b82a13a",
        "colab": {
          "base_uri": "https://localhost:8080/"
        }
      },
      "source": [
        "url = 'https://raw.githubusercontent.com/AndersonAlencarBarros/IC/main/Previs%C3%A3o%20de%20Pedidos%20em%20uma%20Loja%20Online/BasesTratadas/Test_Min.csv'\n",
        "Teste_min = pd.read_csv(url, sep=',')\n",
        "\n",
        "url = 'https://raw.githubusercontent.com/AndersonAlencarBarros/IC/main/Previs%C3%A3o%20de%20Pedidos%20em%20uma%20Loja%20Online/BasesTratadas/Test_Mean.csv'\n",
        "Teste_mean = pd.read_csv(url, sep=',')\n",
        "\n",
        "url = 'https://raw.githubusercontent.com/AndersonAlencarBarros/IC/main/Previs%C3%A3o%20de%20Pedidos%20em%20uma%20Loja%20Online/BasesTratadas/Test_Max.csv'\n",
        "Teste_max = pd.read_csv(url, sep=',')\n",
        "\n",
        "url = 'https://raw.githubusercontent.com/AndersonAlencarBarros/IC/main/Previs%C3%A3o%20de%20Pedidos%20em%20uma%20Loja%20Online/Bases/realclass_t1.txt'\n",
        "y_real = pd.read_csv(url, sep='|')\n",
        "\n",
        "y_real = y_real.iloc[:,1]\n",
        "y_real"
      ],
      "execution_count": 3,
      "outputs": [
        {
          "output_type": "execute_result",
          "data": {
            "text/plain": [
              "0       1\n",
              "1       1\n",
              "2       1\n",
              "3       0\n",
              "4       0\n",
              "       ..\n",
              "5106    0\n",
              "5107    0\n",
              "5108    1\n",
              "5109    0\n",
              "5110    0\n",
              "Name: prediction, Length: 5111, dtype: int64"
            ]
          },
          "metadata": {},
          "execution_count": 3
        }
      ]
    },
    {
      "cell_type": "markdown",
      "metadata": {
        "id": "lvjFYMp-qgDZ"
      },
      "source": [
        "#**Experimento com Redes Neurais**\n",
        "\n",
        "importação do keras\n",
        "*  Sequential\n",
        "*   InputLayer,\n",
        "*    Dense - Estrutura de rede totalmente conectada\n",
        "*   SGD\n",
        "\n"
      ]
    },
    {
      "cell_type": "code",
      "metadata": {
        "id": "eqgWWsiJa8Io"
      },
      "source": [
        "from keras.models  import Sequential\n",
        "from keras.layers import InputLayer, Dense\n",
        "from sklearn.metrics import accuracy_score"
      ],
      "execution_count": null,
      "outputs": []
    },
    {
      "cell_type": "markdown",
      "metadata": {
        "id": "JxU3ZrilsXcC"
      },
      "source": [
        "###**Desenvolvendo o modelo**"
      ]
    },
    {
      "cell_type": "code",
      "metadata": {
        "id": "b8HFcDSGsbUQ"
      },
      "source": [
        "def createNeuralModel(base, num_attr):\n",
        " \n",
        "  #número de atributos preditivos \n",
        "  input_neuron = num_attr\n",
        "\n",
        "  #neurônios da camada oculta\n",
        "  hidden_neuron = 17\n",
        "\n",
        "  #número de saídas do classificador  \n",
        "  output_neuron = 1 \n",
        "\n",
        "  mlp = Sequential([                  \n",
        "      InputLayer(input_neuron),\n",
        "      Dense(hidden_neuron, activation=\"relu\"),      #Função de ativação linear Retificada para as primeiras camadas (ReLU)\n",
        "      Dense(output_neuron, activation=\"sigmoid\")    #Função de ativação sigmoide para camada de saída\n",
        "  ])\n",
        "\n",
        "  return mlp"
      ],
      "execution_count": null,
      "outputs": []
    },
    {
      "cell_type": "markdown",
      "metadata": {
        "id": "HdmzVhF1wZh-"
      },
      "source": [
        "####Criando a rede neural para o modelo min"
      ]
    },
    {
      "cell_type": "code",
      "metadata": {
        "id": "svGMv42s761X"
      },
      "source": [
        "_, columns = Train_min.shape\n",
        "columns\n",
        "neuralModel_min = createNeuralModel(Train_min, columns)"
      ],
      "execution_count": null,
      "outputs": []
    },
    {
      "cell_type": "markdown",
      "metadata": {
        "id": "sOBytBOpxDye"
      },
      "source": [
        "####Criando a rede neural para o modelo mean\n",
        "\n",
        "\n"
      ]
    },
    {
      "cell_type": "code",
      "metadata": {
        "id": "YXAjT9aJxFN5"
      },
      "source": [
        "_, columns = Train_mean.shape\n",
        "neuralModel_mean = createNeuralModel(Train_mean, columns)"
      ],
      "execution_count": null,
      "outputs": []
    },
    {
      "cell_type": "markdown",
      "metadata": {
        "id": "TVfrbjOv7bJI"
      },
      "source": [
        "####Criando a rede neural para o modelo max\n",
        "\n",
        "\n"
      ]
    },
    {
      "cell_type": "code",
      "metadata": {
        "id": "MCTgqQLn7d2K"
      },
      "source": [
        "_, columns = Train_max.shape\n",
        "neuralModel_max = createNeuralModel(Train_max, columns)"
      ],
      "execution_count": null,
      "outputs": []
    },
    {
      "cell_type": "markdown",
      "metadata": {
        "id": "cdxZuj2OwzfE"
      },
      "source": [
        "###**Treinando o modelo**\n"
      ]
    },
    {
      "cell_type": "code",
      "metadata": {
        "id": "tNDOJB8_1Dnr"
      },
      "source": [
        "def separateAttrAlvo(base):\n",
        "  X = base.iloc[:, :-1]\n",
        "  Y = base.iloc[:, -1]\n",
        "  return X, Y"
      ],
      "execution_count": null,
      "outputs": []
    },
    {
      "cell_type": "code",
      "metadata": {
        "id": "Up8HnAnaw7l5"
      },
      "source": [
        "def compileNeuralModel(mlp):\n",
        "  mlp.compile(optimizer=\"sgd\", loss=\"binary_crossentropy\")\n",
        "  return mlp"
      ],
      "execution_count": null,
      "outputs": []
    },
    {
      "cell_type": "code",
      "metadata": {
        "id": "5r8nKnFAw-Yt"
      },
      "source": [
        "def traineNeuralModel(mlp, X_train, y_train):\n",
        "  batch_size = 16\n",
        "  Log = mlp.fit(X_train, y_train, batch_size=batch_size, epochs= 30)\n",
        "  return  Log, mlp"
      ],
      "execution_count": null,
      "outputs": []
    },
    {
      "cell_type": "markdown",
      "metadata": {
        "id": "qvicUcHBymXa"
      },
      "source": [
        "####Treinando o modelo para min"
      ]
    },
    {
      "cell_type": "code",
      "metadata": {
        "colab": {
          "base_uri": "https://localhost:8080/"
        },
        "id": "AwsFlBmEn3jH",
        "outputId": "d3c7836e-6539-46e2-84f9-c28efcb19000"
      },
      "source": [
        "X_min = Train_min\n",
        "y_min = order\n",
        "\n",
        "\n",
        "neuralModel_min = compileNeuralModel(neuralModel_min)\n",
        "neuralModel_log_min, neuralModel_min = traineNeuralModel(neuralModel_min, X_min, y_min)\n",
        "\n",
        "\n"
      ],
      "execution_count": null,
      "outputs": [
        {
          "output_type": "stream",
          "name": "stdout",
          "text": [
            "Epoch 1/30\n",
            "3125/3125 [==============================] - 4s 1ms/step - loss: 0.4733\n",
            "Epoch 2/30\n",
            "3125/3125 [==============================] - 4s 1ms/step - loss: 0.4090\n",
            "Epoch 3/30\n",
            "3125/3125 [==============================] - 4s 1ms/step - loss: 0.4002\n",
            "Epoch 4/30\n",
            "3125/3125 [==============================] - 3s 1ms/step - loss: 0.3952\n",
            "Epoch 5/30\n",
            "3125/3125 [==============================] - 4s 1ms/step - loss: 0.3903\n",
            "Epoch 6/30\n",
            "3125/3125 [==============================] - 4s 1ms/step - loss: 0.3852\n",
            "Epoch 7/30\n",
            "3125/3125 [==============================] - 3s 1ms/step - loss: 0.3798\n",
            "Epoch 8/30\n",
            "3125/3125 [==============================] - 4s 1ms/step - loss: 0.3736\n",
            "Epoch 9/30\n",
            "3125/3125 [==============================] - 4s 1ms/step - loss: 0.3667\n",
            "Epoch 10/30\n",
            "3125/3125 [==============================] - 4s 1ms/step - loss: 0.3594\n",
            "Epoch 11/30\n",
            "3125/3125 [==============================] - 4s 1ms/step - loss: 0.3523\n",
            "Epoch 12/30\n",
            "3125/3125 [==============================] - 4s 1ms/step - loss: 0.3451\n",
            "Epoch 13/30\n",
            "3125/3125 [==============================] - 3s 1ms/step - loss: 0.3383\n",
            "Epoch 14/30\n",
            "3125/3125 [==============================] - 4s 1ms/step - loss: 0.3321\n",
            "Epoch 15/30\n",
            "3125/3125 [==============================] - 4s 1ms/step - loss: 0.3265\n",
            "Epoch 16/30\n",
            "3125/3125 [==============================] - 4s 1ms/step - loss: 0.3215\n",
            "Epoch 17/30\n",
            "3125/3125 [==============================] - 4s 1ms/step - loss: 0.3168\n",
            "Epoch 18/30\n",
            "3125/3125 [==============================] - 4s 1ms/step - loss: 0.3120\n",
            "Epoch 19/30\n",
            "3125/3125 [==============================] - 3s 1ms/step - loss: 0.3082\n",
            "Epoch 20/30\n",
            "3125/3125 [==============================] - 4s 1ms/step - loss: 0.3053\n",
            "Epoch 21/30\n",
            "3125/3125 [==============================] - 4s 1ms/step - loss: 0.3028\n",
            "Epoch 22/30\n",
            "3125/3125 [==============================] - 4s 1ms/step - loss: 0.3006\n",
            "Epoch 23/30\n",
            "3125/3125 [==============================] - 4s 1ms/step - loss: 0.2984\n",
            "Epoch 24/30\n",
            "3125/3125 [==============================] - 4s 1ms/step - loss: 0.2968\n",
            "Epoch 25/30\n",
            "3125/3125 [==============================] - 4s 1ms/step - loss: 0.2950\n",
            "Epoch 26/30\n",
            "3125/3125 [==============================] - 4s 1ms/step - loss: 0.2938\n",
            "Epoch 27/30\n",
            "3125/3125 [==============================] - 4s 1ms/step - loss: 0.2925\n",
            "Epoch 28/30\n",
            "3125/3125 [==============================] - 4s 1ms/step - loss: 0.2914\n",
            "Epoch 29/30\n",
            "3125/3125 [==============================] - 4s 1ms/step - loss: 0.2904\n",
            "Epoch 30/30\n",
            "3125/3125 [==============================] - 4s 1ms/step - loss: 0.2896\n"
          ]
        }
      ]
    },
    {
      "cell_type": "markdown",
      "metadata": {
        "id": "YgiDPfqIyuZo"
      },
      "source": [
        "####Treinando o modelo mean"
      ]
    },
    {
      "cell_type": "code",
      "metadata": {
        "colab": {
          "base_uri": "https://localhost:8080/"
        },
        "id": "OeweATCjyA7K",
        "outputId": "fc06c47c-ad3d-4e07-e080-a8cd23467866"
      },
      "source": [
        "X_mean = Train_mean\n",
        "y_mean = order\n",
        "\n",
        "neuralModel_mean = compileNeuralModel(neuralModel_mean)\n",
        "neuralModel_log_mean, neuralModel = traineNeuralModel(neuralModel_mean, X_mean, y_mean)\n",
        "\n"
      ],
      "execution_count": null,
      "outputs": [
        {
          "output_type": "stream",
          "name": "stdout",
          "text": [
            "Epoch 1/30\n",
            "3125/3125 [==============================] - 4s 1ms/step - loss: 0.4483\n",
            "Epoch 2/30\n",
            "3125/3125 [==============================] - 3s 1ms/step - loss: 0.3158\n",
            "Epoch 3/30\n",
            "3125/3125 [==============================] - 4s 1ms/step - loss: 0.2922\n",
            "Epoch 4/30\n",
            "3125/3125 [==============================] - 3s 1ms/step - loss: 0.2809\n",
            "Epoch 5/30\n",
            "3125/3125 [==============================] - 3s 1ms/step - loss: 0.2735\n",
            "Epoch 6/30\n",
            "3125/3125 [==============================] - 4s 1ms/step - loss: 0.2683\n",
            "Epoch 7/30\n",
            "3125/3125 [==============================] - 4s 1ms/step - loss: 0.2644\n",
            "Epoch 8/30\n",
            "3125/3125 [==============================] - 4s 1ms/step - loss: 0.2615\n",
            "Epoch 9/30\n",
            "3125/3125 [==============================] - 4s 1ms/step - loss: 0.2592\n",
            "Epoch 10/30\n",
            "3125/3125 [==============================] - 4s 1ms/step - loss: 0.2573\n",
            "Epoch 11/30\n",
            "3125/3125 [==============================] - 4s 1ms/step - loss: 0.2558\n",
            "Epoch 12/30\n",
            "3125/3125 [==============================] - 4s 1ms/step - loss: 0.2546\n",
            "Epoch 13/30\n",
            "3125/3125 [==============================] - 4s 1ms/step - loss: 0.2534\n",
            "Epoch 14/30\n",
            "3125/3125 [==============================] - 4s 1ms/step - loss: 0.2525\n",
            "Epoch 15/30\n",
            "3125/3125 [==============================] - 4s 1ms/step - loss: 0.2516\n",
            "Epoch 16/30\n",
            "3125/3125 [==============================] - 4s 1ms/step - loss: 0.2511\n",
            "Epoch 17/30\n",
            "3125/3125 [==============================] - 5s 1ms/step - loss: 0.2504\n",
            "Epoch 18/30\n",
            "3125/3125 [==============================] - 4s 1ms/step - loss: 0.2499\n",
            "Epoch 19/30\n",
            "3125/3125 [==============================] - 4s 1ms/step - loss: 0.2493\n",
            "Epoch 20/30\n",
            "3125/3125 [==============================] - 4s 1ms/step - loss: 0.2489\n",
            "Epoch 21/30\n",
            "3125/3125 [==============================] - 4s 1ms/step - loss: 0.2484\n",
            "Epoch 22/30\n",
            "3125/3125 [==============================] - 4s 1ms/step - loss: 0.2478\n",
            "Epoch 23/30\n",
            "3125/3125 [==============================] - 4s 1ms/step - loss: 0.2474\n",
            "Epoch 24/30\n",
            "3125/3125 [==============================] - 4s 1ms/step - loss: 0.2473\n",
            "Epoch 25/30\n",
            "3125/3125 [==============================] - 4s 1ms/step - loss: 0.2469\n",
            "Epoch 26/30\n",
            "3125/3125 [==============================] - 4s 1ms/step - loss: 0.2465\n",
            "Epoch 27/30\n",
            "3125/3125 [==============================] - 4s 1ms/step - loss: 0.2462\n",
            "Epoch 28/30\n",
            "3125/3125 [==============================] - 4s 1ms/step - loss: 0.2459\n",
            "Epoch 29/30\n",
            "3125/3125 [==============================] - 3s 1ms/step - loss: 0.2457\n",
            "Epoch 30/30\n",
            "3125/3125 [==============================] - 4s 1ms/step - loss: 0.2454\n"
          ]
        }
      ]
    },
    {
      "cell_type": "markdown",
      "metadata": {
        "id": "nrJmKNm_mbzh"
      },
      "source": [
        "####Treinando o modelo max"
      ]
    },
    {
      "cell_type": "code",
      "metadata": {
        "colab": {
          "base_uri": "https://localhost:8080/"
        },
        "id": "HWqBXf797q7k",
        "outputId": "b8b856fc-38c6-40fc-d1e0-23a02352db66"
      },
      "source": [
        "X_max = Train_mean\n",
        "y_max = order\n",
        "\n",
        "neuralModel_max = compileNeuralModel(neuralModel_mean)\n",
        "neuralModel_log_max, neuralModel_max = traineNeuralModel(neuralModel_max, X_max, y_max)"
      ],
      "execution_count": null,
      "outputs": [
        {
          "output_type": "stream",
          "name": "stdout",
          "text": [
            "Epoch 1/30\n",
            "3125/3125 [==============================] - 4s 1ms/step - loss: 0.2449\n",
            "Epoch 2/30\n",
            "3125/3125 [==============================] - 3s 1ms/step - loss: 0.2450\n",
            "Epoch 3/30\n",
            "3125/3125 [==============================] - 3s 1ms/step - loss: 0.2447\n",
            "Epoch 4/30\n",
            "3125/3125 [==============================] - 4s 1ms/step - loss: 0.2444\n",
            "Epoch 5/30\n",
            "3125/3125 [==============================] - 4s 1ms/step - loss: 0.2443\n",
            "Epoch 6/30\n",
            "3125/3125 [==============================] - 4s 1ms/step - loss: 0.2440\n",
            "Epoch 7/30\n",
            "3125/3125 [==============================] - 4s 1ms/step - loss: 0.2440\n",
            "Epoch 8/30\n",
            "3125/3125 [==============================] - 4s 1ms/step - loss: 0.2436\n",
            "Epoch 9/30\n",
            "3125/3125 [==============================] - 4s 1ms/step - loss: 0.2435\n",
            "Epoch 10/30\n",
            "3125/3125 [==============================] - 4s 1ms/step - loss: 0.2434\n",
            "Epoch 11/30\n",
            "3125/3125 [==============================] - 3s 1ms/step - loss: 0.2432\n",
            "Epoch 12/30\n",
            "3125/3125 [==============================] - 4s 1ms/step - loss: 0.2431\n",
            "Epoch 13/30\n",
            "3125/3125 [==============================] - 4s 1ms/step - loss: 0.2432\n",
            "Epoch 14/30\n",
            "3125/3125 [==============================] - 4s 1ms/step - loss: 0.2429\n",
            "Epoch 15/30\n",
            "3125/3125 [==============================] - 4s 1ms/step - loss: 0.2427\n",
            "Epoch 16/30\n",
            "3125/3125 [==============================] - 4s 1ms/step - loss: 0.2425\n",
            "Epoch 17/30\n",
            "3125/3125 [==============================] - 4s 1ms/step - loss: 0.2425\n",
            "Epoch 18/30\n",
            "3125/3125 [==============================] - 4s 1ms/step - loss: 0.2424\n",
            "Epoch 19/30\n",
            "3125/3125 [==============================] - 3s 1ms/step - loss: 0.2421\n",
            "Epoch 20/30\n",
            "3125/3125 [==============================] - 4s 1ms/step - loss: 0.2421\n",
            "Epoch 21/30\n",
            "3125/3125 [==============================] - 4s 1ms/step - loss: 0.2418\n",
            "Epoch 22/30\n",
            "3125/3125 [==============================] - 4s 1ms/step - loss: 0.2418\n",
            "Epoch 23/30\n",
            "3125/3125 [==============================] - 4s 1ms/step - loss: 0.2417\n",
            "Epoch 24/30\n",
            "3125/3125 [==============================] - 4s 1ms/step - loss: 0.2416\n",
            "Epoch 25/30\n",
            "3125/3125 [==============================] - 4s 1ms/step - loss: 0.2412\n",
            "Epoch 26/30\n",
            "3125/3125 [==============================] - 4s 1ms/step - loss: 0.2412\n",
            "Epoch 27/30\n",
            "3125/3125 [==============================] - 4s 1ms/step - loss: 0.2410\n",
            "Epoch 28/30\n",
            "3125/3125 [==============================] - 4s 1ms/step - loss: 0.2409\n",
            "Epoch 29/30\n",
            "3125/3125 [==============================] - 4s 1ms/step - loss: 0.2406\n",
            "Epoch 30/30\n",
            "3125/3125 [==============================] - 4s 1ms/step - loss: 0.2404\n"
          ]
        }
      ]
    },
    {
      "cell_type": "code",
      "metadata": {
        "id": "KB8BGeMinNcK"
      },
      "source": [
        "import matplotlib.pyplot as plt"
      ],
      "execution_count": null,
      "outputs": []
    },
    {
      "cell_type": "code",
      "metadata": {
        "id": "veDU5xPQnKc8"
      },
      "source": [
        "def draw_graphics(neuralModel_log):\n",
        "  fig, ax = plt.subplots()\n",
        "  ax.plot(neuralModel_log.history[\"loss\"],'r', marker='.', label=\"Erro no treinamento\")\n",
        "  ax.legend();\n"
      ],
      "execution_count": null,
      "outputs": []
    },
    {
      "cell_type": "code",
      "metadata": {
        "id": "WyhJiGl2ZsoF"
      },
      "source": [
        "def drawGraphics_PerHistoryLogs(titles, name_axis, neuralModel_log):\n",
        "  fig, axes = plt.subplots(1, 3, figsize=(20,4))\n",
        "\n",
        "  axes[0].plot (neuralModel_log[0].history[\"loss\"], marker='.', label=\"Erro no treinamento\")\n",
        "  axes[0].set_title(titles[0])\n",
        "  #axes[0].set_xlabel(name_axis[0])\n",
        "  #axes[0].set_ylabel(\"accuracy\")\n",
        "  axes[0].xaxis.labelpad = 20\n",
        "\n",
        "  axes[1].plot (neuralModel_log[1].history[\"loss\"],  marker='.', label=\"Erro no treinamento\")\n",
        "  axes[1].set_title(titles[1])\n",
        "  #axes[1].set_xlabel(name_axis[1])\n",
        "  #axes[1].set_ylabel(\"accuracy\")\n",
        "  axes[1].xaxis.labelpad = 20\n",
        "\n",
        "  axes[2].plot(neuralModel_log[2].history[\"loss\"],  marker='.', label=\"Erro no treinamento\")\n",
        "  axes[2].set_title(titles[2])\n",
        "  #axes[2].set_xlabel(name_axis[2])\n",
        "  #axes[2].set_ylabel(\"accuracy\")\n",
        "  axes[2].xaxis.labelpad = 10\n",
        "  plt.show()"
      ],
      "execution_count": null,
      "outputs": []
    },
    {
      "cell_type": "code",
      "metadata": {
        "id": "QbkVEg85mnTi",
        "colab": {
          "base_uri": "https://localhost:8080/",
          "height": 281
        },
        "outputId": "0000a0da-6679-4c02-f3a5-95a30214edd7"
      },
      "source": [
        "neuralModel_log_min.history.keys()\n",
        "drawGraphics_PerHistoryLogs([\"Error in treinament to min\",\"Error in treinament to mean\", \"Error in treinament to max\"],\n",
        "                            [\"Min\", \"Mean\", \"Max\"],\n",
        "                            [neuralModel_log_min, neuralModel_log_mean, neuralModel_log_max])\n"
      ],
      "execution_count": null,
      "outputs": [
        {
          "output_type": "display_data",
          "data": {
            "image/png": "[encoded data removed]",
            "text/plain": [
              "<Figure size 1440x288 with 3 Axes>"
            ]
          },
          "metadata": {
            "needs_background": "light"
          }
        }
      ]
    },
    {
      "cell_type": "markdown",
      "metadata": {
        "id": "7dqt76kHLrrs"
      },
      "source": [
        "###**Predição**"
      ]
    },
    {
      "cell_type": "code",
      "metadata": {
        "id": "ICLaLBGHL1QR"
      },
      "source": [
        "def prediction(neuralModel, base):\n",
        "  y_pred = neuralModel.predict(base)\n",
        "  return y_pred\n",
        "\n",
        "def prediction_bin(neuralModel, base):\n",
        "  y_pred = neuralModel.predict(base)\n",
        "  return (y_pred > 0.5).astype(\"int32\")"
      ],
      "execution_count": null,
      "outputs": []
    },
    {
      "cell_type": "code",
      "metadata": {
        "id": "1Fw0CRYYY_cG"
      },
      "source": [
        "def drawGraphicsPerMissingValuesTreatment(axis, accuracy):\n",
        "  fig = plt.figure()\n",
        "  ax = fig.add_axes([0,0,1,1])\n",
        "  ax.bar(axis, accuracy)\n",
        "  ax.set_ylabel('Accuracy')\n",
        "  ax.set_title('Acurracy per missing values treatment')\n",
        "  plt.show()"
      ],
      "execution_count": null,
      "outputs": []
    },
    {
      "cell_type": "markdown",
      "metadata": {
        "id": "LcGRo6v557nT"
      },
      "source": [
        "####Visualização do erro para o modelo min"
      ]
    },
    {
      "cell_type": "code",
      "metadata": {
        "id": "DdNZURzOONl7",
        "colab": {
          "base_uri": "https://localhost:8080/"
        },
        "outputId": "0f5358d7-7d8f-4d1d-8304-709daa19dcde"
      },
      "source": [
        "y_pred_bin_min = prediction_bin(neuralModel_min, Teste_min)\n",
        "accuracy_min = accuracy_score(y_real, y_pred_bin_min)\n",
        "accuracy_min"
      ],
      "execution_count": null,
      "outputs": [
        {
          "output_type": "execute_result",
          "data": {
            "text/plain": [
              "0.844648796712972"
            ]
          },
          "metadata": {},
          "execution_count": 33
        }
      ]
    },
    {
      "cell_type": "markdown",
      "metadata": {
        "id": "N2RtlMcb6UNW"
      },
      "source": [
        "####Visualização do erro para o modelo mean\n",
        "\n"
      ]
    },
    {
      "cell_type": "code",
      "metadata": {
        "colab": {
          "base_uri": "https://localhost:8080/"
        },
        "id": "-bz9PgAT6ahM",
        "outputId": "2757761a-f7a9-4860-bdfc-153b9a5c483e"
      },
      "source": [
        "y_pred_bin_mean = prediction_bin(neuralModel_mean, Teste_mean)\n",
        "accuracy_mean = accuracy_score(y_real, y_pred_bin_mean)\n",
        "accuracy_mean"
      ],
      "execution_count": null,
      "outputs": [
        {
          "output_type": "execute_result",
          "data": {
            "text/plain": [
              "0.8659753472901585"
            ]
          },
          "metadata": {},
          "execution_count": 34
        }
      ]
    },
    {
      "cell_type": "markdown",
      "metadata": {
        "id": "CvIZlJdI7CKt"
      },
      "source": [
        "####Visualização do erro para o modelo max\n",
        "\n"
      ]
    },
    {
      "cell_type": "code",
      "metadata": {
        "colab": {
          "base_uri": "https://localhost:8080/"
        },
        "id": "Fbnvy0AU7FGT",
        "outputId": "59507c6f-7998-449e-b78b-0126f48628ab"
      },
      "source": [
        "y_pred_bin_max = prediction_bin(neuralModel_max, Teste_max)\n",
        "accuracy_max = accuracy_score(y_real, y_pred_bin_max)\n",
        "accuracy_max"
      ],
      "execution_count": null,
      "outputs": [
        {
          "output_type": "execute_result",
          "data": {
            "text/plain": [
              "0.6214048131481119"
            ]
          },
          "metadata": {},
          "execution_count": 35
        }
      ]
    },
    {
      "cell_type": "code",
      "metadata": {
        "colab": {
          "base_uri": "https://localhost:8080/",
          "height": 352
        },
        "id": "pcW6YeTU6Mkp",
        "outputId": "2141f551-db2a-4f50-c12d-fb54d8190769"
      },
      "source": [
        "drawGraphicsPerMissingValuesTreatment(['Min', 'Média', 'Max'], [accuracy_min, accuracy_mean, accuracy_max])"
      ],
      "execution_count": null,
      "outputs": [
        {
          "output_type": "display_data",
          "data": {
            "image/png": "[encoded data removed]",
            "text/plain": [
              "<Figure size 432x288 with 1 Axes>"
            ]
          },
          "metadata": {
            "needs_background": "light"
          }
        }
      ]
    },
    {
      "cell_type": "markdown",
      "metadata": {
        "id": "VHqIZtNBVPpr"
      },
      "source": [
        "#**Experimento com Random Forest**"
      ]
    },
    {
      "cell_type": "markdown",
      "metadata": {
        "id": "ODbkpEakboS2"
      },
      "source": [
        "**Importando o classificador Random Forest**"
      ]
    },
    {
      "cell_type": "code",
      "metadata": {
        "id": "dVt7JlHqVsyO"
      },
      "source": [
        "from sklearn.ensemble import RandomForestClassifier\n",
        "import seaborn as sns"
      ],
      "execution_count": null,
      "outputs": []
    },
    {
      "cell_type": "code",
      "metadata": {
        "id": "WVP37FArV0rr"
      },
      "source": [
        "def classifierRandomForest(X_train, y_train):\n",
        "\n",
        "  classificador_RF = RandomForestClassifier(n_estimators=100)\n",
        "  classificador_RF.fit(X_train, y_train)\n",
        "  return classificador_RF\n"
      ],
      "execution_count": null,
      "outputs": []
    },
    {
      "cell_type": "code",
      "metadata": {
        "id": "IJ0WzH44R1IE"
      },
      "source": [
        "def predictRandomForest(classificador_RF, X_test): \n",
        "  return classificador_RF.predict(X_test)"
      ],
      "execution_count": null,
      "outputs": []
    },
    {
      "cell_type": "code",
      "metadata": {
        "id": "VN4MGwfUQ8ZA"
      },
      "source": [
        "def drawGraphicsAccuracyRandomForest(axis, accuracy):\n",
        "  fig = plt.figure()\n",
        "  ax = fig.add_axes([0,0,1,1])\n",
        "  ax.bar(axis, accuracy)\n",
        "  ax.set_ylabel('Accuracy')\n",
        "  ax.set_title('Acurracy per missing values treatment')\n",
        "  plt.show()"
      ],
      "execution_count": null,
      "outputs": []
    },
    {
      "cell_type": "markdown",
      "metadata": {
        "id": "yDfpCAWTgsU4"
      },
      "source": [
        "###**Treinando o modelo para max**"
      ]
    },
    {
      "cell_type": "code",
      "metadata": {
        "id": "6UdLTozpg9mo"
      },
      "source": [
        "X_train_max = Train_max\n",
        "classificador_RF = classifierRandomForest(X_train_max,np.ravel(order))\n",
        "y_predict_max = predictRandomForest(classificador_RF, Teste_max)"
      ],
      "execution_count": null,
      "outputs": []
    },
    {
      "cell_type": "code",
      "metadata": {
        "id": "oHUKpGcnRTKL",
        "colab": {
          "base_uri": "https://localhost:8080/"
        },
        "outputId": "5e1c3816-2d29-442f-d779-21b2adeb3953"
      },
      "source": [
        "accuracy_min = accuracy_score(y_real, y_predict_max)\n",
        "accuracy_max"
      ],
      "execution_count": null,
      "outputs": [
        {
          "output_type": "execute_result",
          "data": {
            "text/plain": [
              "0.6214048131481119"
            ]
          },
          "metadata": {},
          "execution_count": 45
        }
      ]
    },
    {
      "cell_type": "markdown",
      "metadata": {
        "id": "64uQfi3B_S5s"
      },
      "source": [
        "####Treinamento o modelo para mean"
      ]
    },
    {
      "cell_type": "code",
      "metadata": {
        "id": "wL2VwPhW_c0F"
      },
      "source": [
        "X_train_mean = Train_mean\n",
        "classificador_RF = classifierRandomForest(X_train_mean, np.ravel(order))\n",
        "y_predict_mean = predictRandomForest(classificador_RF, Teste_mean)"
      ],
      "execution_count": null,
      "outputs": []
    },
    {
      "cell_type": "code",
      "metadata": {
        "colab": {
          "base_uri": "https://localhost:8080/"
        },
        "id": "YRizRrUJ_ge_",
        "outputId": "4a35fa82-444d-4664-cdd0-c34be3f78325"
      },
      "source": [
        "accuracy_mean = accuracy_score(y_real, y_predict_mean)\n",
        "accuracy_mean"
      ],
      "execution_count": null,
      "outputs": [
        {
          "output_type": "execute_result",
          "data": {
            "text/plain": [
              "0.9598904324007044"
            ]
          },
          "metadata": {},
          "execution_count": 48
        }
      ]
    },
    {
      "cell_type": "markdown",
      "metadata": {
        "id": "s_H5ste8_vrf"
      },
      "source": [
        "####Treinando o modelo para min"
      ]
    },
    {
      "cell_type": "code",
      "metadata": {
        "id": "QbcLSvUg_1cR"
      },
      "source": [
        "X_train_min = Train_min\n",
        "classificador_RF = classifierRandomForest(X_train_min, np.ravel(order))\n",
        "y_predict_min = predictRandomForest(classificador_RF, Teste_min)"
      ],
      "execution_count": null,
      "outputs": []
    },
    {
      "cell_type": "code",
      "metadata": {
        "colab": {
          "base_uri": "https://localhost:8080/"
        },
        "id": "c1p5Yyqr_3Wv",
        "outputId": "4633395a-1ab2-4427-eb41-5716c1f73652"
      },
      "source": [
        "accuracy_min = accuracy_score(y_real, y_predict_min)\n",
        "accuracy_min"
      ],
      "execution_count": null,
      "outputs": [
        {
          "output_type": "execute_result",
          "data": {
            "text/plain": [
              "0.9029544120524359"
            ]
          },
          "metadata": {},
          "execution_count": 50
        }
      ]
    },
    {
      "cell_type": "code",
      "metadata": {
        "id": "ktGAwI8oXzZA",
        "colab": {
          "base_uri": "https://localhost:8080/",
          "height": 352
        },
        "outputId": "b96aca75-5c33-4392-8695-289f8a8b2b1b"
      },
      "source": [
        "drawGraphicsAccuracyRandomForest(['Min', 'Média', 'Max'], [accuracy_min, accuracy_mean, accuracy_max])\n"
      ],
      "execution_count": null,
      "outputs": [
        {
          "output_type": "display_data",
          "data": {
            "image/png": "[encoded data removed]",
            "text/plain": [
              "<Figure size 432x288 with 1 Axes>"
            ]
          },
          "metadata": {
            "needs_background": "light"
          }
        }
      ]
    }
  ]
}