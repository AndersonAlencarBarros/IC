{
  "nbformat": 4,
  "nbformat_minor": 0,
  "metadata": {
    "accelerator": "TPU",
    "colab": {
      "name": "Seleção de Variações usando Algoritmo Genético.ipynb",
      "provenance": [],
      "collapsed_sections": []
    },
    "kernelspec": {
      "display_name": "Python 3",
      "name": "python3"
    },
    "language_info": {
      "name": "python"
    }
  },
  "cells": [
    {
      "cell_type": "markdown",
      "metadata": {
        "id": "zUfQRf6hD4yw"
      },
      "source": [
        "> Implementar uma solução de seleção de variáveis usando Wrapper. O algoritmo de busca deve ser o Algoritmo Genético. O algoritmo de aprendizagem deve ser o KNN com K=3.\n",
        ">\n",
        "> [Espeficicação do Projeto](https://drive.google.com/file/d/1Cus0MfsM7BCAMDWNXqJFOEPDzAeWhxsF/view)\n",
        "\n"
      ]
    },
    {
      "cell_type": "code",
      "metadata": {
        "colab": {
          "base_uri": "https://localhost:8080/",
          "height": 213
        },
        "id": "n9AogWPKEYqd",
        "outputId": "99961773-d203-4d24-e34d-f2262f882d73"
      },
      "source": [
        "# Importar Base de Dados\n",
        "import pandas as pd\n",
        "\n",
        "url = 'https://raw.githubusercontent.com/AndersonAlencarBarros/IC/main/Sele%C3%A7%C3%A3o%20de%20Varia%C3%A7%C3%B5es%20usando%20Algoritmo%20Gen%C3%A9tico/AG.csv'\n",
        "data = pd.read_csv(url)\n",
        "data.head(3)"
      ],
      "execution_count": 4,
      "outputs": [
        {
          "output_type": "execute_result",
          "data": {
            "text/html": [
              "<div>\n",
              "<style scoped>\n",
              "    .dataframe tbody tr th:only-of-type {\n",
              "        vertical-align: middle;\n",
              "    }\n",
              "\n",
              "    .dataframe tbody tr th {\n",
              "        vertical-align: top;\n",
              "    }\n",
              "\n",
              "    .dataframe thead th {\n",
              "        text-align: right;\n",
              "    }\n",
              "</style>\n",
              "<table border=\"1\" class=\"dataframe\">\n",
              "  <thead>\n",
              "    <tr style=\"text-align: right;\">\n",
              "      <th></th>\n",
              "      <th>var_0</th>\n",
              "      <th>var_1</th>\n",
              "      <th>var_2</th>\n",
              "      <th>var_3</th>\n",
              "      <th>var_4</th>\n",
              "      <th>var_5</th>\n",
              "      <th>var_6</th>\n",
              "      <th>var_7</th>\n",
              "      <th>var_8</th>\n",
              "      <th>var_9</th>\n",
              "      <th>var_10</th>\n",
              "      <th>var_11</th>\n",
              "      <th>var_12</th>\n",
              "      <th>var_13</th>\n",
              "      <th>var_14</th>\n",
              "      <th>var_15</th>\n",
              "      <th>var_16</th>\n",
              "      <th>var_17</th>\n",
              "      <th>var_18</th>\n",
              "      <th>var_19</th>\n",
              "      <th>var_20</th>\n",
              "      <th>var_21</th>\n",
              "      <th>var_22</th>\n",
              "      <th>var_23</th>\n",
              "      <th>var_24</th>\n",
              "      <th>var_25</th>\n",
              "      <th>var_26</th>\n",
              "      <th>var_27</th>\n",
              "      <th>var_28</th>\n",
              "      <th>var_29</th>\n",
              "      <th>var_30</th>\n",
              "      <th>var_31</th>\n",
              "      <th>var_32</th>\n",
              "      <th>var_33</th>\n",
              "      <th>var_34</th>\n",
              "      <th>var_35</th>\n",
              "      <th>var_36</th>\n",
              "      <th>var_37</th>\n",
              "      <th>var_38</th>\n",
              "      <th>var_39</th>\n",
              "      <th>Y</th>\n",
              "    </tr>\n",
              "  </thead>\n",
              "  <tbody>\n",
              "    <tr>\n",
              "      <th>0</th>\n",
              "      <td>1.0</td>\n",
              "      <td>0.668836</td>\n",
              "      <td>0.223671</td>\n",
              "      <td>0.049866</td>\n",
              "      <td>0.008338</td>\n",
              "      <td>0.001115</td>\n",
              "      <td>0.000124</td>\n",
              "      <td>1.187973e-05</td>\n",
              "      <td>9.931989e-07</td>\n",
              "      <td>7.380968e-08</td>\n",
              "      <td>4.936657e-09</td>\n",
              "      <td>3.001649e-10</td>\n",
              "      <td>1.673009e-11</td>\n",
              "      <td>8.607449e-13</td>\n",
              "      <td>4.112122e-14</td>\n",
              "      <td>1.833557e-15</td>\n",
              "      <td>7.664679e-17</td>\n",
              "      <td>3.015537e-18</td>\n",
              "      <td>1.120500e-19</td>\n",
              "      <td>3.944371e-21</td>\n",
              "      <td>4.017793</td>\n",
              "      <td>2.164501</td>\n",
              "      <td>-0.521489</td>\n",
              "      <td>-1.981021</td>\n",
              "      <td>1.086093</td>\n",
              "      <td>0.296291</td>\n",
              "      <td>3.068366</td>\n",
              "      <td>-0.671233</td>\n",
              "      <td>-2.550676</td>\n",
              "      <td>-2.502836</td>\n",
              "      <td>-4.960745</td>\n",
              "      <td>5.515064</td>\n",
              "      <td>-4.158605</td>\n",
              "      <td>0.618974</td>\n",
              "      <td>-4.116807</td>\n",
              "      <td>-0.435625</td>\n",
              "      <td>-4.429051</td>\n",
              "      <td>-1.630177</td>\n",
              "      <td>-3.976518</td>\n",
              "      <td>-1.281325</td>\n",
              "      <td>5.430095</td>\n",
              "    </tr>\n",
              "    <tr>\n",
              "      <th>1</th>\n",
              "      <td>1.0</td>\n",
              "      <td>-0.327953</td>\n",
              "      <td>0.053777</td>\n",
              "      <td>-0.005879</td>\n",
              "      <td>0.000482</td>\n",
              "      <td>-0.000032</td>\n",
              "      <td>0.000002</td>\n",
              "      <td>-8.095714e-08</td>\n",
              "      <td>3.318772e-09</td>\n",
              "      <td>-1.209336e-10</td>\n",
              "      <td>3.966061e-12</td>\n",
              "      <td>-1.182439e-13</td>\n",
              "      <td>3.231543e-15</td>\n",
              "      <td>-8.152274e-17</td>\n",
              "      <td>1.909690e-18</td>\n",
              "      <td>-4.175264e-20</td>\n",
              "      <td>8.558078e-22</td>\n",
              "      <td>-1.650971e-23</td>\n",
              "      <td>3.008010e-25</td>\n",
              "      <td>-5.192039e-27</td>\n",
              "      <td>-2.601528</td>\n",
              "      <td>3.395143</td>\n",
              "      <td>-3.917285</td>\n",
              "      <td>2.895150</td>\n",
              "      <td>-1.687813</td>\n",
              "      <td>0.086479</td>\n",
              "      <td>-2.400884</td>\n",
              "      <td>2.842392</td>\n",
              "      <td>0.889150</td>\n",
              "      <td>-2.663525</td>\n",
              "      <td>5.728164</td>\n",
              "      <td>2.776594</td>\n",
              "      <td>-0.024665</td>\n",
              "      <td>-1.347030</td>\n",
              "      <td>-0.699568</td>\n",
              "      <td>-1.551804</td>\n",
              "      <td>-0.181644</td>\n",
              "      <td>-1.918719</td>\n",
              "      <td>2.501295</td>\n",
              "      <td>0.074414</td>\n",
              "      <td>4.262274</td>\n",
              "    </tr>\n",
              "    <tr>\n",
              "      <th>2</th>\n",
              "      <td>1.0</td>\n",
              "      <td>0.850103</td>\n",
              "      <td>0.361338</td>\n",
              "      <td>0.102391</td>\n",
              "      <td>0.021761</td>\n",
              "      <td>0.003700</td>\n",
              "      <td>0.000524</td>\n",
              "      <td>6.366070e-05</td>\n",
              "      <td>6.764772e-06</td>\n",
              "      <td>6.389728e-07</td>\n",
              "      <td>5.431929e-08</td>\n",
              "      <td>4.197910e-09</td>\n",
              "      <td>2.973881e-10</td>\n",
              "      <td>1.944697e-11</td>\n",
              "      <td>1.180852e-12</td>\n",
              "      <td>6.692310e-14</td>\n",
              "      <td>3.555722e-15</td>\n",
              "      <td>1.778077e-16</td>\n",
              "      <td>8.397495e-18</td>\n",
              "      <td>3.757231e-19</td>\n",
              "      <td>-3.925193</td>\n",
              "      <td>-4.154145</td>\n",
              "      <td>2.648960</td>\n",
              "      <td>0.017615</td>\n",
              "      <td>3.625035</td>\n",
              "      <td>-3.210216</td>\n",
              "      <td>2.614243</td>\n",
              "      <td>0.611922</td>\n",
              "      <td>-2.539454</td>\n",
              "      <td>2.663654</td>\n",
              "      <td>3.645306</td>\n",
              "      <td>-0.036363</td>\n",
              "      <td>0.410337</td>\n",
              "      <td>0.815217</td>\n",
              "      <td>0.101219</td>\n",
              "      <td>-0.101883</td>\n",
              "      <td>0.815899</td>\n",
              "      <td>-2.736296</td>\n",
              "      <td>6.157502</td>\n",
              "      <td>1.206547</td>\n",
              "      <td>5.325627</td>\n",
              "    </tr>\n",
              "  </tbody>\n",
              "</table>\n",
              "</div>"
            ],
            "text/plain": [
              "   var_0     var_1     var_2     var_3  ...    var_37    var_38    var_39         Y\n",
              "0    1.0  0.668836  0.223671  0.049866  ... -1.630177 -3.976518 -1.281325  5.430095\n",
              "1    1.0 -0.327953  0.053777 -0.005879  ... -1.918719  2.501295  0.074414  4.262274\n",
              "2    1.0  0.850103  0.361338  0.102391  ... -2.736296  6.157502  1.206547  5.325627\n",
              "\n",
              "[3 rows x 41 columns]"
            ]
          },
          "metadata": {},
          "execution_count": 4
        }
      ]
    },
    {
      "cell_type": "code",
      "metadata": {
        "id": "dAPdWTWYFja3"
      },
      "source": [
        "# Importar Bibliotecas\n",
        "import numpy as np\n",
        "import random\n",
        "import matplotlib.pyplot as plt\n",
        "\n",
        "from sklearn.model_selection import train_test_split\n",
        "from sklearn.metrics import r2_score\n",
        "from sklearn.neighbors import KNeighborsRegressor"
      ],
      "execution_count": null,
      "outputs": []
    },
    {
      "cell_type": "code",
      "metadata": {
        "colab": {
          "base_uri": "https://localhost:8080/",
          "height": 329
        },
        "id": "Y7u1idZutrFB",
        "outputId": "f57a1896-84c8-48f6-f835-c015a8278b50"
      },
      "source": [
        "# KNN k=3 para a base inteira\n",
        "X_data = data.iloc[:, :-1]\n",
        "y_data = data['Y']\n",
        "\n",
        "X_train, X_test, y_train, y_test = train_test_split(X_data, y_data, \n",
        "                                                    test_size=0.3, random_state=30)\n",
        "knn = KNeighborsRegressor(n_neighbors=3)\n",
        "knn = knn.fit(X_train, y_train)\n",
        "y_pred = knn.predict(X_test)\n",
        "\n",
        "print(r2_score(y_test, y_pred))\n",
        "\n",
        "plt.plot(y_test, y_pred, ls='', marker='o')\n",
        "plt.title(\"Scatter Plot\")\n",
        "plt.xlabel(\"Y real\")\n",
        "plt.ylabel(\"Y previsto\")"
      ],
      "execution_count": null,
      "outputs": [
        {
          "output_type": "stream",
          "text": [
            "0.0851542612901014\n"
          ],
          "name": "stdout"
        },
        {
          "output_type": "execute_result",
          "data": {
            "text/plain": [
              "Text(0, 0.5, 'Y previsto')"
            ]
          },
          "metadata": {
            "tags": []
          },
          "execution_count": 52
        },
        {
          "output_type": "display_data",
          "data": {
            "image/png": "[encoded data removed]",
            "text/plain": [
              "<Figure size 432x288 with 1 Axes>"
            ]
          },
          "metadata": {
            "tags": [],
            "needs_background": "light"
          }
        }
      ]
    },
    {
      "cell_type": "markdown",
      "metadata": {
        "id": "uXaL28S7yCZX"
      },
      "source": [
        "> Algoritmo Genético"
      ]
    },
    {
      "cell_type": "code",
      "metadata": {
        "id": "2LZy0TntR4GN"
      },
      "source": [
        "# Algoritmo que mapeia o cromossomo para a base de dados\n",
        "def select_columns(chromosome):\n",
        "  columns = []\n",
        "  for i in range(0, len(chromosome)):\n",
        "    if chromosome[i] == 0:\n",
        "      columns.append(data.columns.to_list()[i])\n",
        "\n",
        "  return data.drop(columns=columns)"
      ],
      "execution_count": null,
      "outputs": []
    },
    {
      "cell_type": "code",
      "metadata": {
        "id": "cpz6cr75k6cg"
      },
      "source": [
        "def initilization_of_population(size, n_feat):\n",
        "    population = []\n",
        "    for i in range(size):\n",
        "        chromosome = np.ones(n_feat, dtype=np.int)\n",
        "        chromosome[:int(0.4*n_feat)] = 0\n",
        "        np.random.shuffle(chromosome)\n",
        "        population.append(chromosome)\n",
        "    return population"
      ],
      "execution_count": null,
      "outputs": []
    },
    {
      "cell_type": "code",
      "metadata": {
        "id": "KjbSZ-uUk-8G"
      },
      "source": [
        "def fitness(population):\n",
        "    scores = []\n",
        "    for chromosome in population:\n",
        "        data_selected = select_columns(chromosome)\n",
        "        X_data = data_selected.iloc[:, :-1]\n",
        "        y_data = data_selected['Y']\n",
        "        neigh = KNeighborsRegressor(n_neighbors=3)\n",
        "        neigh = neigh.fit(X_data, y_data)\n",
        "        y_pred = neigh.predict(X_data)\n",
        "        scores.append(r2_score(y_data, y_pred))\n",
        "\n",
        "    scores, population = np.array(scores), np.array(population) \n",
        "    inds = np.argsort(scores)\n",
        "    return list(scores[inds][::-1]), list(population[inds,:][::-1])"
      ],
      "execution_count": null,
      "outputs": []
    },
    {
      "cell_type": "code",
      "metadata": {
        "id": "KPvQIjAmlAFu"
      },
      "source": [
        "def selection(pop_after_fit, n_parents):\n",
        "    population_nextgen = []\n",
        "    for i in range(n_parents):\n",
        "        population_nextgen.append(pop_after_fit[i])\n",
        "    return population_nextgen"
      ],
      "execution_count": null,
      "outputs": []
    },
    {
      "cell_type": "code",
      "metadata": {
        "id": "JCGqKWkSlCo_"
      },
      "source": [
        "def crossover(pop_after_sel):\n",
        "    population_nextgen = pop_after_sel\n",
        "    for i in range(len(pop_after_sel) - 1):\n",
        "        crossover_rate = random.random()\n",
        "        if crossover_rate > 0.4:\n",
        "          child_1 = np.concatenate((pop_after_sel[i][:int(crossover_rate * len(pop_after_sel[i]))], \n",
        "                                    pop_after_sel[i+1][int(crossover_rate * len(pop_after_sel[i])):]))\n",
        "          child_2 = np.concatenate((pop_after_sel[i+1][:int(crossover_rate * len(pop_after_sel[i]))], \n",
        "                                    pop_after_sel[i][int(crossover_rate * len(pop_after_sel[i])):]))\n",
        "\n",
        "          population_nextgen.append(child_1)\n",
        "          population_nextgen.append(child_2)\n",
        "          \n",
        "    return population_nextgen"
      ],
      "execution_count": null,
      "outputs": []
    },
    {
      "cell_type": "code",
      "metadata": {
        "id": "YSUL-mhmlEin"
      },
      "source": [
        "def mutation(pop_after_cross, mutation_rate):\n",
        "    population_nextgen = []\n",
        "    for i in range(0, len(pop_after_cross)):\n",
        "        chromosome = pop_after_cross[i]\n",
        "        for j in range(len(chromosome)):\n",
        "            if random.random() < mutation_rate:\n",
        "                chromosome[j] = not chromosome[j]\n",
        "        population_nextgen.append(chromosome)\n",
        "    return population_nextgen"
      ],
      "execution_count": null,
      "outputs": []
    },
    {
      "cell_type": "code",
      "metadata": {
        "id": "86f0C2gfFjO-"
      },
      "source": [
        "# Algoritmo Genético\n",
        "\n",
        "def generations(size, n_feat, n_parents, mutation_rate, n_gen):\n",
        "    best_chromo = []\n",
        "    best_score = []\n",
        "    population_nextgen = initilization_of_population(size, n_feat)\n",
        "    for i in range(n_gen):\n",
        "      print(\"Executando Algoritmo Genético...\")\n",
        "      scores, pop_after_fit = fitness(population_nextgen)\n",
        "      pop_after_sel = selection(pop_after_fit,n_parents)\n",
        "      pop_after_cross = crossover(pop_after_sel)\n",
        "      population_nextgen = mutation(pop_after_cross, mutation_rate)\n",
        "      best_chromo.append(pop_after_fit[0])\n",
        "      best_score.append(scores[0])\n",
        "\n",
        "      if scores[0] > 0.98:\n",
        "        break\n",
        "\n",
        "    best_score, best_chromo = np.array(best_score), np.array(best_chromo) \n",
        "    inds = np.argsort(best_score)\n",
        "    best_score = list(best_score[inds][::-1])\n",
        "    best_chromo = list(best_chromo[inds,:][::-1])    \n",
        "    \n",
        "    return best_chromo[0],best_score[0]"
      ],
      "execution_count": null,
      "outputs": []
    },
    {
      "cell_type": "code",
      "metadata": {
        "colab": {
          "base_uri": "https://localhost:8080/"
        },
        "id": "dWGTIo95HwC5",
        "outputId": "8be27302-7183-4db1-ef06-190dbc419062"
      },
      "source": [
        "chromo, score = generations(size=400, n_feat=40, n_parents=100, mutation_rate=0.01,\n",
        "                     n_gen=15)\n",
        "\n",
        "print(\"Resultado Final\")\n",
        "print(\"Chromo: {}\".format(chromo))\n",
        "print(\"Score: {}\".format(score))"
      ],
      "execution_count": null,
      "outputs": [
        {
          "output_type": "stream",
          "text": [
            "Executando Algoritmo Genético...\n",
            "Executando Algoritmo Genético...\n",
            "Executando Algoritmo Genético...\n",
            "Executando Algoritmo Genético...\n",
            "Executando Algoritmo Genético...\n",
            "Executando Algoritmo Genético...\n",
            "Executando Algoritmo Genético...\n",
            "Executando Algoritmo Genético...\n",
            "Executando Algoritmo Genético...\n",
            "Executando Algoritmo Genético...\n",
            "Resultado Final\n",
            "Chromo: [1 1 1 1 1 1 1 1 0 0 1 0 1 1 0 1 1 1 0 0 0 0 0 0 0 0 0 0 0 0 0 0 0 0 1 0 0\n",
            " 0 0 0]\n",
            "Score: 0.9919253008970341\n"
          ],
          "name": "stdout"
        }
      ]
    },
    {
      "cell_type": "code",
      "metadata": {
        "id": "mQGXbIYInc7m"
      },
      "source": [
        "# Gerando nova base de dados baseado na saída do Algoritmo Genético\n",
        "columns = []\n",
        "for i in range(0, len(chromo)):\n",
        "  if chromo[i] == 0:\n",
        "    columns.append(data.columns.to_list()[i])\n",
        "\n",
        "data.drop(columns=columns, inplace=True)"
      ],
      "execution_count": null,
      "outputs": []
    },
    {
      "cell_type": "code",
      "metadata": {
        "id": "NnSlsbQFnxlx"
      },
      "source": [
        "# Divisão da nova base de dados em base de teste e treinamento\n",
        "X_data = data.iloc[:, :-1]\n",
        "y_data = data['Y']\n",
        "\n",
        "X_train, X_test, y_train, y_test = train_test_split(X_data, y_data, \n",
        "                                                    test_size=0.3, random_state=30)"
      ],
      "execution_count": null,
      "outputs": []
    },
    {
      "cell_type": "code",
      "metadata": {
        "id": "tKjqdy17n-fg"
      },
      "source": [
        "# KNN com k=3 para a base de treinamento\n",
        "knn = KNeighborsRegressor(n_neighbors=3)\n",
        "knn = knn.fit(X_train, y_train)\n",
        "y_pred = knn.predict(X_test)"
      ],
      "execution_count": null,
      "outputs": []
    },
    {
      "cell_type": "code",
      "metadata": {
        "colab": {
          "base_uri": "https://localhost:8080/"
        },
        "id": "rt_UdjBupEXs",
        "outputId": "69c7d585-b659-4fde-b323-0a04f489ee2d"
      },
      "source": [
        "# Cálculo do r2_score para o novo conjunto de teste\n",
        "r2_score(y_test, y_pred)"
      ],
      "execution_count": null,
      "outputs": [
        {
          "output_type": "execute_result",
          "data": {
            "text/plain": [
              "0.9819223792108476"
            ]
          },
          "metadata": {
            "tags": []
          },
          "execution_count": 64
        }
      ]
    },
    {
      "cell_type": "code",
      "metadata": {
        "colab": {
          "base_uri": "https://localhost:8080/",
          "height": 312
        },
        "id": "tEUWz43dqQHb",
        "outputId": "14f61c33-ffc5-45ab-ef92-ed109ed5ea6c"
      },
      "source": [
        "# Gráfico de Dispersão \n",
        "plt.plot(y_test, y_pred, ls='', marker='o')\n",
        "plt.title(\"Scatter Plot\")\n",
        "plt.xlabel(\"Y real\")\n",
        "plt.ylabel(\"Y previsto\")"
      ],
      "execution_count": null,
      "outputs": [
        {
          "output_type": "execute_result",
          "data": {
            "text/plain": [
              "Text(0, 0.5, 'Y previsto')"
            ]
          },
          "metadata": {
            "tags": []
          },
          "execution_count": 65
        },
        {
          "output_type": "display_data",
          "data": {
            "image/png": "[encoded data removed]",
            "text/plain": [
              "<Figure size 432x288 with 1 Axes>"
            ]
          },
          "metadata": {
            "tags": [],
            "needs_background": "light"
          }
        }
      ]
    },
    {
      "cell_type": "markdown",
      "metadata": {
        "id": "5PYs3d3zVSzL"
      },
      "source": [
        "### Referências\n",
        "\n",
        "[Feature Selection using Genetic Algorithms in R](https://towardsdatascience.com/feature-selection-using-genetic-algorithms-in-r-3d9252f1aa66)  \n",
        "[Genetic Algorithm in Machine Learning using Python](https://datascienceplus.com/genetic-algorithm-in-machine-learning-using-python/)  \n",
        "[Genetic algorithms for feature selection](https://www.neuraldesigner.com/blog/genetic_algorithms_for_feature_selection)  "
      ]
    }
  ]
}